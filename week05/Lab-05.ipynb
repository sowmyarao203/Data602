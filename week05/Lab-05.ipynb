{
 "cells": [
  {
   "cell_type": "markdown",
   "id": "318de7cb",
   "metadata": {},
   "source": [
    "# Week5 - Lab\n",
    "\n",
    "* Assign X, y\n",
    "* Train-test split\n",
    "* Visualize & speculate on training dataset\n",
    "* Train a logistic regression model\n",
    "* Evaluate the model, roc score\n",
    "* Explain findings"
   ]
  },
  {
   "cell_type": "code",
   "execution_count": 1,
   "id": "4089dbd4",
   "metadata": {},
   "outputs": [],
   "source": [
    "import numpy as np\n",
    "import pandas as pd\n",
    "from sklearn.model_selection import train_test_split\n",
    "from sklearn.feature_extraction.text import CountVectorizer\n",
    "from sklearn.metrics import roc_auc_score, accuracy_score, f1_score, precision_score, recall_score\n",
    "from sklearn.decomposition import PCA\n",
    "import seaborn as sns\n",
    "from sklearn.linear_model import LogisticRegression\n",
    "import matplotlib.pyplot as plt\n",
    "%matplotlib inline\n",
    "\n",
    "# https://www.kaggle.com/datasets/muhammadtalharasool/simple-gender-classification?select=gender.csv\n",
    "df = pd.read_csv('https://raw.githubusercontent.com/msaricaumbc/DS_data/master/ds602/log_reg/gender.csv').iloc[:,:-1]\n",
    "df.columns = df.columns.str.strip()\n",
    "df.Gender = df.Gender.str.strip()"
   ]
  },
  {
   "cell_type": "code",
   "execution_count": 2,
   "id": "c6d3b99b",
   "metadata": {},
   "outputs": [
    {
     "data": {
      "text/html": [
       "<div>\n",
       "<style scoped>\n",
       "    .dataframe tbody tr th:only-of-type {\n",
       "        vertical-align: middle;\n",
       "    }\n",
       "\n",
       "    .dataframe tbody tr th {\n",
       "        vertical-align: top;\n",
       "    }\n",
       "\n",
       "    .dataframe thead th {\n",
       "        text-align: right;\n",
       "    }\n",
       "</style>\n",
       "<table border=\"1\" class=\"dataframe\">\n",
       "  <thead>\n",
       "    <tr style=\"text-align: right;\">\n",
       "      <th></th>\n",
       "      <th>Gender</th>\n",
       "      <th>Age</th>\n",
       "      <th>Height (cm)</th>\n",
       "      <th>Weight (kg)</th>\n",
       "      <th>Occupation</th>\n",
       "      <th>Education Level</th>\n",
       "      <th>Marital Status</th>\n",
       "      <th>Income (USD)</th>\n",
       "      <th>Favorite Color</th>\n",
       "    </tr>\n",
       "  </thead>\n",
       "  <tbody>\n",
       "    <tr>\n",
       "      <th>0</th>\n",
       "      <td>male</td>\n",
       "      <td>32</td>\n",
       "      <td>175</td>\n",
       "      <td>70</td>\n",
       "      <td>Software Engineer</td>\n",
       "      <td>Master's Degree</td>\n",
       "      <td>Married</td>\n",
       "      <td>75000</td>\n",
       "      <td>Blue</td>\n",
       "    </tr>\n",
       "    <tr>\n",
       "      <th>1</th>\n",
       "      <td>male</td>\n",
       "      <td>25</td>\n",
       "      <td>182</td>\n",
       "      <td>85</td>\n",
       "      <td>Sales Representative</td>\n",
       "      <td>Bachelor's Degree</td>\n",
       "      <td>Single</td>\n",
       "      <td>45000</td>\n",
       "      <td>Green</td>\n",
       "    </tr>\n",
       "    <tr>\n",
       "      <th>2</th>\n",
       "      <td>female</td>\n",
       "      <td>41</td>\n",
       "      <td>160</td>\n",
       "      <td>62</td>\n",
       "      <td>Doctor</td>\n",
       "      <td>Doctorate Degree</td>\n",
       "      <td>Married</td>\n",
       "      <td>120000</td>\n",
       "      <td>Purple</td>\n",
       "    </tr>\n",
       "    <tr>\n",
       "      <th>3</th>\n",
       "      <td>male</td>\n",
       "      <td>38</td>\n",
       "      <td>178</td>\n",
       "      <td>79</td>\n",
       "      <td>Lawyer</td>\n",
       "      <td>Bachelor's Degree</td>\n",
       "      <td>Single</td>\n",
       "      <td>90000</td>\n",
       "      <td>Red</td>\n",
       "    </tr>\n",
       "    <tr>\n",
       "      <th>4</th>\n",
       "      <td>female</td>\n",
       "      <td>29</td>\n",
       "      <td>165</td>\n",
       "      <td>58</td>\n",
       "      <td>Graphic Designer</td>\n",
       "      <td>Associate's Degree</td>\n",
       "      <td>Single</td>\n",
       "      <td>35000</td>\n",
       "      <td>Yellow</td>\n",
       "    </tr>\n",
       "  </tbody>\n",
       "</table>\n",
       "</div>"
      ],
      "text/plain": [
       "   Gender  Age  Height (cm)  Weight (kg)             Occupation  \\\n",
       "0    male   32          175           70      Software Engineer   \n",
       "1    male   25          182           85   Sales Representative   \n",
       "2  female   41          160           62                 Doctor   \n",
       "3    male   38          178           79                 Lawyer   \n",
       "4  female   29          165           58       Graphic Designer   \n",
       "\n",
       "       Education Level Marital Status  Income (USD) Favorite Color  \n",
       "0      Master's Degree        Married         75000           Blue  \n",
       "1    Bachelor's Degree         Single         45000          Green  \n",
       "2     Doctorate Degree        Married        120000         Purple  \n",
       "3    Bachelor's Degree         Single         90000            Red  \n",
       "4   Associate's Degree         Single         35000         Yellow  "
      ]
     },
     "execution_count": 2,
     "metadata": {},
     "output_type": "execute_result"
    }
   ],
   "source": [
    "df.head()"
   ]
  },
  {
   "cell_type": "code",
   "execution_count": 3,
   "id": "4b40c32e",
   "metadata": {},
   "outputs": [],
   "source": [
    "df.rename(columns = {'Height (cm)':'height_cm',\n",
    "                     'Weight (kg)':'weight_kg',\n",
    "                     'Education Level':'EducationLevel',\n",
    "                     'Income (USD)': 'Income_USD', \n",
    "                     'Favorite Color':'favouriteColor',\n",
    "                     'Marital Status':'maritalStatus'}, inplace = True)"
   ]
  },
  {
   "cell_type": "code",
   "execution_count": 4,
   "id": "3e6fd5e1",
   "metadata": {},
   "outputs": [
    {
     "data": {
      "text/html": [
       "<div>\n",
       "<style scoped>\n",
       "    .dataframe tbody tr th:only-of-type {\n",
       "        vertical-align: middle;\n",
       "    }\n",
       "\n",
       "    .dataframe tbody tr th {\n",
       "        vertical-align: top;\n",
       "    }\n",
       "\n",
       "    .dataframe thead th {\n",
       "        text-align: right;\n",
       "    }\n",
       "</style>\n",
       "<table border=\"1\" class=\"dataframe\">\n",
       "  <thead>\n",
       "    <tr style=\"text-align: right;\">\n",
       "      <th></th>\n",
       "      <th>Gender</th>\n",
       "      <th>Age</th>\n",
       "      <th>height_cm</th>\n",
       "      <th>weight_kg</th>\n",
       "      <th>Occupation</th>\n",
       "      <th>EducationLevel</th>\n",
       "      <th>maritalStatus</th>\n",
       "      <th>Income_USD</th>\n",
       "      <th>favouriteColor</th>\n",
       "    </tr>\n",
       "  </thead>\n",
       "  <tbody>\n",
       "    <tr>\n",
       "      <th>0</th>\n",
       "      <td>male</td>\n",
       "      <td>32</td>\n",
       "      <td>175</td>\n",
       "      <td>70</td>\n",
       "      <td>Software Engineer</td>\n",
       "      <td>Master's Degree</td>\n",
       "      <td>Married</td>\n",
       "      <td>75000</td>\n",
       "      <td>Blue</td>\n",
       "    </tr>\n",
       "    <tr>\n",
       "      <th>1</th>\n",
       "      <td>male</td>\n",
       "      <td>25</td>\n",
       "      <td>182</td>\n",
       "      <td>85</td>\n",
       "      <td>Sales Representative</td>\n",
       "      <td>Bachelor's Degree</td>\n",
       "      <td>Single</td>\n",
       "      <td>45000</td>\n",
       "      <td>Green</td>\n",
       "    </tr>\n",
       "    <tr>\n",
       "      <th>2</th>\n",
       "      <td>female</td>\n",
       "      <td>41</td>\n",
       "      <td>160</td>\n",
       "      <td>62</td>\n",
       "      <td>Doctor</td>\n",
       "      <td>Doctorate Degree</td>\n",
       "      <td>Married</td>\n",
       "      <td>120000</td>\n",
       "      <td>Purple</td>\n",
       "    </tr>\n",
       "    <tr>\n",
       "      <th>3</th>\n",
       "      <td>male</td>\n",
       "      <td>38</td>\n",
       "      <td>178</td>\n",
       "      <td>79</td>\n",
       "      <td>Lawyer</td>\n",
       "      <td>Bachelor's Degree</td>\n",
       "      <td>Single</td>\n",
       "      <td>90000</td>\n",
       "      <td>Red</td>\n",
       "    </tr>\n",
       "    <tr>\n",
       "      <th>4</th>\n",
       "      <td>female</td>\n",
       "      <td>29</td>\n",
       "      <td>165</td>\n",
       "      <td>58</td>\n",
       "      <td>Graphic Designer</td>\n",
       "      <td>Associate's Degree</td>\n",
       "      <td>Single</td>\n",
       "      <td>35000</td>\n",
       "      <td>Yellow</td>\n",
       "    </tr>\n",
       "  </tbody>\n",
       "</table>\n",
       "</div>"
      ],
      "text/plain": [
       "   Gender  Age  height_cm  weight_kg             Occupation  \\\n",
       "0    male   32        175         70      Software Engineer   \n",
       "1    male   25        182         85   Sales Representative   \n",
       "2  female   41        160         62                 Doctor   \n",
       "3    male   38        178         79                 Lawyer   \n",
       "4  female   29        165         58       Graphic Designer   \n",
       "\n",
       "        EducationLevel maritalStatus  Income_USD favouriteColor  \n",
       "0      Master's Degree       Married       75000           Blue  \n",
       "1    Bachelor's Degree        Single       45000          Green  \n",
       "2     Doctorate Degree       Married      120000         Purple  \n",
       "3    Bachelor's Degree        Single       90000            Red  \n",
       "4   Associate's Degree        Single       35000         Yellow  "
      ]
     },
     "execution_count": 4,
     "metadata": {},
     "output_type": "execute_result"
    }
   ],
   "source": [
    "df.head()"
   ]
  },
  {
   "cell_type": "code",
   "execution_count": 5,
   "id": "f7cda82e",
   "metadata": {},
   "outputs": [
    {
     "data": {
      "text/plain": [
       "<AxesSubplot:>"
      ]
     },
     "execution_count": 5,
     "metadata": {},
     "output_type": "execute_result"
    },
    {
     "data": {
      "image/png": "[encoded data removed]",
      "text/plain": [
       "<Figure size 640x480 with 1 Axes>"
      ]
     },
     "metadata": {},
     "output_type": "display_data"
    }
   ],
   "source": [
    "df.Gender.hist()"
   ]
  },
  {
   "cell_type": "code",
   "execution_count": null,
   "id": "69f5a3ff",
   "metadata": {},
   "outputs": [],
   "source": [
    "# sns.pairplot(df, hue='Gender')"
   ]
  },
  {
   "cell_type": "markdown",
   "id": "820b41ec",
   "metadata": {},
   "source": [
    "Height and weight have a very strong correlation. Hence, any of the column has to be dropped."
   ]
  },
  {
   "cell_type": "code",
   "execution_count": 6,
   "id": "294f0dfe",
   "metadata": {},
   "outputs": [
    {
     "data": {
      "text/html": [
       "<div>\n",
       "<style scoped>\n",
       "    .dataframe tbody tr th:only-of-type {\n",
       "        vertical-align: middle;\n",
       "    }\n",
       "\n",
       "    .dataframe tbody tr th {\n",
       "        vertical-align: top;\n",
       "    }\n",
       "\n",
       "    .dataframe thead th {\n",
       "        text-align: right;\n",
       "    }\n",
       "</style>\n",
       "<table border=\"1\" class=\"dataframe\">\n",
       "  <thead>\n",
       "    <tr style=\"text-align: right;\">\n",
       "      <th></th>\n",
       "      <th>Gender</th>\n",
       "      <th>Age</th>\n",
       "      <th>height_cm</th>\n",
       "      <th>weight_kg</th>\n",
       "      <th>Occupation</th>\n",
       "      <th>EducationLevel</th>\n",
       "      <th>maritalStatus</th>\n",
       "      <th>Income_USD</th>\n",
       "      <th>favouriteColor</th>\n",
       "    </tr>\n",
       "  </thead>\n",
       "  <tbody>\n",
       "    <tr>\n",
       "      <th>0</th>\n",
       "      <td>male</td>\n",
       "      <td>32</td>\n",
       "      <td>175</td>\n",
       "      <td>70</td>\n",
       "      <td>Software Engineer</td>\n",
       "      <td>Master's Degree</td>\n",
       "      <td>Married</td>\n",
       "      <td>75000</td>\n",
       "      <td>Blue</td>\n",
       "    </tr>\n",
       "    <tr>\n",
       "      <th>1</th>\n",
       "      <td>male</td>\n",
       "      <td>25</td>\n",
       "      <td>182</td>\n",
       "      <td>85</td>\n",
       "      <td>Sales Representative</td>\n",
       "      <td>Bachelor's Degree</td>\n",
       "      <td>Single</td>\n",
       "      <td>45000</td>\n",
       "      <td>Green</td>\n",
       "    </tr>\n",
       "    <tr>\n",
       "      <th>2</th>\n",
       "      <td>female</td>\n",
       "      <td>41</td>\n",
       "      <td>160</td>\n",
       "      <td>62</td>\n",
       "      <td>Doctor</td>\n",
       "      <td>Doctorate Degree</td>\n",
       "      <td>Married</td>\n",
       "      <td>120000</td>\n",
       "      <td>Purple</td>\n",
       "    </tr>\n",
       "    <tr>\n",
       "      <th>3</th>\n",
       "      <td>male</td>\n",
       "      <td>38</td>\n",
       "      <td>178</td>\n",
       "      <td>79</td>\n",
       "      <td>Lawyer</td>\n",
       "      <td>Bachelor's Degree</td>\n",
       "      <td>Single</td>\n",
       "      <td>90000</td>\n",
       "      <td>Red</td>\n",
       "    </tr>\n",
       "    <tr>\n",
       "      <th>4</th>\n",
       "      <td>female</td>\n",
       "      <td>29</td>\n",
       "      <td>165</td>\n",
       "      <td>58</td>\n",
       "      <td>Graphic Designer</td>\n",
       "      <td>Associate's Degree</td>\n",
       "      <td>Single</td>\n",
       "      <td>35000</td>\n",
       "      <td>Yellow</td>\n",
       "    </tr>\n",
       "  </tbody>\n",
       "</table>\n",
       "</div>"
      ],
      "text/plain": [
       "   Gender  Age  height_cm  weight_kg             Occupation  \\\n",
       "0    male   32        175         70      Software Engineer   \n",
       "1    male   25        182         85   Sales Representative   \n",
       "2  female   41        160         62                 Doctor   \n",
       "3    male   38        178         79                 Lawyer   \n",
       "4  female   29        165         58       Graphic Designer   \n",
       "\n",
       "        EducationLevel maritalStatus  Income_USD favouriteColor  \n",
       "0      Master's Degree       Married       75000           Blue  \n",
       "1    Bachelor's Degree        Single       45000          Green  \n",
       "2     Doctorate Degree       Married      120000         Purple  \n",
       "3    Bachelor's Degree        Single       90000            Red  \n",
       "4   Associate's Degree        Single       35000         Yellow  "
      ]
     },
     "execution_count": 6,
     "metadata": {},
     "output_type": "execute_result"
    }
   ],
   "source": [
    "df.head()"
   ]
  },
  {
   "cell_type": "code",
   "execution_count": 7,
   "id": "f8c1966a",
   "metadata": {},
   "outputs": [
    {
     "data": {
      "text/plain": [
       "Married      41\n",
       "Single       38\n",
       " Married     24\n",
       " Single      21\n",
       " Divorced     4\n",
       " Widowed      2\n",
       "Divorced      1\n",
       "Name: maritalStatus, dtype: int64"
      ]
     },
     "execution_count": 7,
     "metadata": {},
     "output_type": "execute_result"
    }
   ],
   "source": [
    "df.maritalStatus.value_counts()"
   ]
  },
  {
   "cell_type": "code",
   "execution_count": 8,
   "id": "80bda83c",
   "metadata": {},
   "outputs": [],
   "source": [
    "df['maritalStatus'] = df['maritalStatus'].str.lower().str.lstrip()"
   ]
  },
  {
   "cell_type": "code",
   "execution_count": 9,
   "id": "d7472961",
   "metadata": {},
   "outputs": [
    {
     "data": {
      "text/plain": [
       "married     65\n",
       "single      59\n",
       "divorced     5\n",
       "widowed      2\n",
       "Name: maritalStatus, dtype: int64"
      ]
     },
     "execution_count": 9,
     "metadata": {},
     "output_type": "execute_result"
    }
   ],
   "source": [
    "df.maritalStatus.value_counts()"
   ]
  },
  {
   "cell_type": "code",
   "execution_count": 10,
   "id": "4fb8dfca",
   "metadata": {},
   "outputs": [
    {
     "data": {
      "image/png": "[encoded data removed]",
      "text/plain": [
       "<Figure size 700x500 with 2 Axes>"
      ]
     },
     "metadata": {},
     "output_type": "display_data"
    }
   ],
   "source": [
    "import seaborn as sns\n",
    "plt.figure(figsize=(7,5))\n",
    "cor = df.corr()\n",
    "sns.heatmap(cor, annot=True, cmap = plt.cm.CMRmap_r)\n",
    "plt.show()"
   ]
  },
  {
   "cell_type": "code",
   "execution_count": 11,
   "id": "aacfd1cc",
   "metadata": {},
   "outputs": [],
   "source": [
    "df = df.drop('weight_kg',axis=1)"
   ]
  },
  {
   "cell_type": "code",
   "execution_count": 12,
   "id": "80083e3a",
   "metadata": {},
   "outputs": [],
   "source": [
    "features = [x for x in df.columns if x != 'Gender']\n",
    "categorical_vars = [col for col in df[features].columns if df[col].dtype == 'object']\n",
    "numerical_vars = [col for col in df[features].columns if col not in categorical_vars]"
   ]
  },
  {
   "cell_type": "code",
   "execution_count": 13,
   "id": "9cb52315",
   "metadata": {},
   "outputs": [
    {
     "name": "stdout",
     "output_type": "stream",
     "text": [
      "Training examples: 104\n",
      "Test examples: 27\n"
     ]
    }
   ],
   "source": [
    "from sklearn.model_selection import train_test_split\n",
    "\n",
    "def generate_splits():\n",
    "    y = df['Gender']\n",
    "    X = df[[x for x in df.columns if x!= 'Gender']]\n",
    "\n",
    "    return train_test_split(X, y, test_size=0.2, random_state=124)\n",
    "\n",
    "X_train, X_test, y_train, y_test = generate_splits()\n",
    "\n",
    "print(f'Training examples: {X_train.shape[0]:,}')\n",
    "print(f'Test examples: {X_test.shape[0]:,}')"
   ]
  },
  {
   "cell_type": "code",
   "execution_count": 14,
   "id": "5378e35e",
   "metadata": {},
   "outputs": [],
   "source": [
    "from sklearn.pipeline import Pipeline\n",
    "from sklearn.compose import ColumnTransformer\n",
    "from sklearn.impute import SimpleImputer\n",
    "from sklearn.preprocessing import OneHotEncoder\n",
    "from sklearn.preprocessing import StandardScaler\n",
    "\n",
    "num_pipeline = Pipeline([('impute_missing', SimpleImputer(strategy='median')),\n",
    "                           ('standardize_num', StandardScaler())\n",
    "                        ])\n",
    "\n",
    "cat_pipeline = Pipeline([('impute_missing_cats', SimpleImputer(strategy='most_frequent')),\n",
    "                          ('create_dummies_cats', OneHotEncoder(handle_unknown='ignore', drop='first'))])"
   ]
  },
  {
   "cell_type": "code",
   "execution_count": 15,
   "id": "47da39bd",
   "metadata": {},
   "outputs": [],
   "source": [
    "processing_pipeline = ColumnTransformer(transformers=[('proc_numeric', num_pipeline, numerical_vars),\n",
    "                                          ('create_dummies', cat_pipeline, categorical_vars)])"
   ]
  },
  {
   "cell_type": "code",
   "execution_count": 16,
   "id": "bba7ebab",
   "metadata": {},
   "outputs": [
    {
     "data": {
      "text/plain": [
       "Pipeline(steps=[('data_processing',\n",
       "                 ColumnTransformer(transformers=[('proc_numeric',\n",
       "                                                  Pipeline(steps=[('impute_missing',\n",
       "                                                                   SimpleImputer(strategy='median')),\n",
       "                                                                  ('standardize_num',\n",
       "                                                                   StandardScaler())]),\n",
       "                                                  ['Age', 'height_cm',\n",
       "                                                   'Income_USD']),\n",
       "                                                 ('create_dummies',\n",
       "                                                  Pipeline(steps=[('impute_missing_cats',\n",
       "                                                                   SimpleImputer(strategy='most_frequent')),\n",
       "                                                                  ('create_dummies_cats',\n",
       "                                                                   OneHotEncoder(drop='first',\n",
       "                                                                                 handle_unknown='ignore'))]),\n",
       "                                                  ['Occupation',\n",
       "                                                   'EducationLevel',\n",
       "                                                   'maritalStatus',\n",
       "                                                   'favouriteColor'])])),\n",
       "                ('logreg', LogisticRegression())])"
      ]
     },
     "execution_count": 16,
     "metadata": {},
     "output_type": "execute_result"
    }
   ],
   "source": [
    "from sklearn.linear_model import LogisticRegression\n",
    "modeling_pipeline = Pipeline([('data_processing', processing_pipeline),('logreg', LogisticRegression())])\n",
    "modeling_pipeline.fit(X_train, y_train)"
   ]
  },
  {
   "cell_type": "code",
   "execution_count": 17,
   "id": "308e1fa2",
   "metadata": {},
   "outputs": [
    {
     "name": "stdout",
     "output_type": "stream",
     "text": [
      "              precision    recall  f1-score   support\n",
      "\n",
      "      female       1.00      1.00      1.00        11\n",
      "        male       1.00      1.00      1.00        16\n",
      "\n",
      "    accuracy                           1.00        27\n",
      "   macro avg       1.00      1.00      1.00        27\n",
      "weighted avg       1.00      1.00      1.00        27\n",
      "\n"
     ]
    }
   ],
   "source": [
    "y_pred = modeling_pipeline.predict(X_test)\n",
    "    \n",
    "from sklearn.metrics import accuracy_score\n",
    "print("
   ]
  },
  {
   "cell_type": "code",
   "execution_count": 31,
   "id": "1ab984b1",
   "metadata": {},
   "outputs": [
    {
     "name": "stdout",
     "output_type": "stream",
     "text": [
      "ROC AUC score: 1.000\n"
     ]
    }
   ],
   "source": [
    "from sklearn.metrics import roc_auc_score\n",
    "\n",
    "y_prob = modeling_pipeline.predict_proba(X_test)[:,1] # probability of the positive class\n",
    "roc_score = roc_auc_score(y_test, y_prob)\n",
    "print(f'ROC AUC score: {roc_score:.3f}')"
   ]
  },
  {
   "cell_type": "code",
   "execution_count": null,
   "id": "5111bb7b",
   "metadata": {},
   "outputs": [],
   "source": []
  }
 ],
 "metadata": {
  "kernelspec": {
   "display_name": "Python 3 (ipykernel)",
   "language": "python",
   "name": "python3"
  },
  "language_info": {
   "codemirror_mode": {
    "name": "ipython",
    "version": 3
   },
   "file_extension": ".py",
   "mimetype": "text/x-python",
   "name": "python",
   "nbconvert_exporter": "python",
   "pygments_lexer": "ipython3",
   "version": "3.9.13"
  },
  "toc": {
   "base_numbering": 1,
   "nav_menu": {},
   "number_sections": false,
   "sideBar": true,
   "skip_h1_title": false,
   "title_cell": "Table of Contents",
   "title_sidebar": "Contents",
   "toc_cell": false,
   "toc_position": {},
   "toc_section_display": true,
   "toc_window_display": false
  }
 },
 "nbformat": 4,
 "nbformat_minor": 5
}
