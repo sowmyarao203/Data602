{
 "cells": [
  {
   "cell_type": "markdown",
   "id": "92665e74",
   "metadata": {},
   "source": [
    "# Week3 - Homework\n",
    "\n",
    "Write a rule based predictor for a given matrix\n",
    "\n",
    "* Don't use a machine learning model (You can use PCA)"
   ]
  },
  {
   "cell_type": "code",
   "execution_count": 1,
   "id": "71cb00e3",
   "metadata": {},
   "outputs": [
    {
     "name": "stdout",
     "output_type": "stream",
     "text": [
      "<class 'pandas.core.frame.DataFrame'>\n",
      "RangeIndex: 150 entries, 0 to 149\n",
      "Data columns (total 5 columns):\n",
      " #   Column        Non-Null Count  Dtype  \n",
      "---  ------        --------------  -----  \n",
      " 0   sepal_length  150 non-null    float64\n",
      " 1   sepal_width   150 non-null    float64\n",
      " 2   petal_length  150 non-null    float64\n",
      " 3   petal_width   150 non-null    float64\n",
      " 4   species       150 non-null    object \n",
      "dtypes: float64(4), object(1)\n",
      "memory usage: 6.0+ KB\n"
     ]
    }
   ],
   "source": [
    "import pandas as pd\n",
    "import numpy as np\n",
    "from matplotlib import pyplot as plt\n",
    "\n",
    "df = pd.read_csv('https://raw.githubusercontent.com/msaricaumbc/DS_data/master/ds602/iris.csv')\n",
    "df.info()"
   ]
  },
  {
   "cell_type": "code",
   "execution_count": 2,
   "id": "03ad628a",
   "metadata": {},
   "outputs": [
    {
     "data": {
      "text/plain": [
       "Iris-setosa        50\n",
       "Iris-versicolor    50\n",
       "Iris-virginica     50\n",
       "Name: species, dtype: int64"
      ]
     },
     "execution_count": 2,
     "metadata": {},
     "output_type": "execute_result"
    }
   ],
   "source": [
    "df.species.value_counts()"
   ]
  },
  {
   "cell_type": "code",
   "execution_count": 3,
   "id": "e5e20c9e",
   "metadata": {},
   "outputs": [
    {
     "data": {
      "text/html": [
       "<div>\n",
       "<style scoped>\n",
       "    .dataframe tbody tr th:only-of-type {\n",
       "        vertical-align: middle;\n",
       "    }\n",
       "\n",
       "    .dataframe tbody tr th {\n",
       "        vertical-align: top;\n",
       "    }\n",
       "\n",
       "    .dataframe thead th {\n",
       "        text-align: right;\n",
       "    }\n",
       "</style>\n",
       "<table border=\"1\" class=\"dataframe\">\n",
       "  <thead>\n",
       "    <tr style=\"text-align: right;\">\n",
       "      <th></th>\n",
       "      <th>sepal_length</th>\n",
       "      <th>sepal_width</th>\n",
       "      <th>petal_length</th>\n",
       "      <th>petal_width</th>\n",
       "      <th>species</th>\n",
       "    </tr>\n",
       "  </thead>\n",
       "  <tbody>\n",
       "    <tr>\n",
       "      <th>0</th>\n",
       "      <td>5.1</td>\n",
       "      <td>3.5</td>\n",
       "      <td>1.4</td>\n",
       "      <td>0.2</td>\n",
       "      <td>Iris-setosa</td>\n",
       "    </tr>\n",
       "    <tr>\n",
       "      <th>1</th>\n",
       "      <td>4.9</td>\n",
       "      <td>3.0</td>\n",
       "      <td>1.4</td>\n",
       "      <td>0.2</td>\n",
       "      <td>Iris-setosa</td>\n",
       "    </tr>\n",
       "    <tr>\n",
       "      <th>2</th>\n",
       "      <td>4.7</td>\n",
       "      <td>3.2</td>\n",
       "      <td>1.3</td>\n",
       "      <td>0.2</td>\n",
       "      <td>Iris-setosa</td>\n",
       "    </tr>\n",
       "    <tr>\n",
       "      <th>3</th>\n",
       "      <td>4.6</td>\n",
       "      <td>3.1</td>\n",
       "      <td>1.5</td>\n",
       "      <td>0.2</td>\n",
       "      <td>Iris-setosa</td>\n",
       "    </tr>\n",
       "    <tr>\n",
       "      <th>4</th>\n",
       "      <td>5.0</td>\n",
       "      <td>3.6</td>\n",
       "      <td>1.4</td>\n",
       "      <td>0.2</td>\n",
       "      <td>Iris-setosa</td>\n",
       "    </tr>\n",
       "  </tbody>\n",
       "</table>\n",
       "</div>"
      ],
      "text/plain": [
       "   sepal_length  sepal_width  petal_length  petal_width      species\n",
       "0           5.1          3.5           1.4          0.2  Iris-setosa\n",
       "1           4.9          3.0           1.4          0.2  Iris-setosa\n",
       "2           4.7          3.2           1.3          0.2  Iris-setosa\n",
       "3           4.6          3.1           1.5          0.2  Iris-setosa\n",
       "4           5.0          3.6           1.4          0.2  Iris-setosa"
      ]
     },
     "execution_count": 3,
     "metadata": {},
     "output_type": "execute_result"
    }
   ],
   "source": [
    "df.head()"
   ]
  },
  {
   "cell_type": "code",
   "execution_count": 4,
   "id": "1990fd4a",
   "metadata": {},
   "outputs": [],
   "source": [
    "df_group = df.groupby('species')"
   ]
  },
  {
   "cell_type": "code",
   "execution_count": 5,
   "id": "57e1412f",
   "metadata": {},
   "outputs": [],
   "source": [
    "df_is = df_group.get_group('Iris-setosa').copy()\n",
    "df_ivs = df_group.get_group('Iris-versicolor').copy()\n",
    "df_ivg = df_group.get_group('Iris-virginica').copy()"
   ]
  },
  {
   "cell_type": "markdown",
   "id": "2df5bd6e",
   "metadata": {},
   "source": [
    "## Features of Iris-setosa"
   ]
  },
  {
   "cell_type": "code",
   "execution_count": 6,
   "id": "56dfecc9",
   "metadata": {},
   "outputs": [
    {
     "name": "stdout",
     "output_type": "stream",
     "text": [
      "Iris-Setosa's range for sepal length is : [4.3 4.4 4.5 4.6 4.7 4.8 4.9 5.  5.1 5.2 5.3 5.4 5.5 5.7 5.8]\n",
      "Iris-Setosa's range for sepal width is : [2.3 2.9 3.  3.1 3.2 3.3 3.4 3.5 3.6 3.7 3.8 3.9 4.  4.1 4.2 4.4]\n",
      "Iris-Setosa's range for petal length is : [1.  1.1 1.2 1.3 1.4 1.5 1.6 1.7 1.9]\n",
      "Iris-Setosa's range for petal width is : [0.1 0.2 0.3 0.4 0.5 0.6]\n"
     ]
    }
   ],
   "source": [
    "df_is.sort_values('sepal_length',inplace=True)\n",
    "print('Iris-Setosa\\'s range for sepal length is :',df_is.sepal_length.unique())\n",
    "df_is.sort_values('sepal_width',inplace=True)\n",
    "print('Iris-Setosa\\'s range for sepal width is :',df_is.sepal_width.unique())\n",
    "df_is.sort_values('petal_length',inplace=True)\n",
    "print('Iris-Setosa\\'s range for petal length is :',df_is.petal_length.unique())\n",
    "df_is.sort_values('petal_width',inplace=True)\n",
    "print('Iris-Setosa\\'s range for petal width is :',df_is.petal_width.unique())"
   ]
  },
  {
   "cell_type": "markdown",
   "id": "2cb28d57",
   "metadata": {},
   "source": [
    "## Features of Iris-versicolor"
   ]
  },
  {
   "cell_type": "code",
   "execution_count": 7,
   "id": "c9084a53",
   "metadata": {},
   "outputs": [
    {
     "name": "stdout",
     "output_type": "stream",
     "text": [
      "Iris-versicolor's range for sepal length is : [4.9 5.  5.1 5.2 5.4 5.5 5.6 5.7 5.8 5.9 6.  6.1 6.2 6.3 6.4 6.5 6.6 6.7\n",
      " 6.8 6.9 7. ]\n",
      "Iris-versicolor's range for sepal width is : [2.  2.2 2.3 2.4 2.5 2.6 2.7 2.8 2.9 3.  3.1 3.2 3.3 3.4]\n",
      "Iris-versicolor's range for petal length is : [3.  3.3 3.5 3.6 3.7 3.8 3.9 4.  4.1 4.2 4.3 4.4 4.5 4.6 4.7 4.8 4.9 5.\n",
      " 5.1]\n",
      "Iris-versicolor's range for petal width is : [1.  1.1 1.2 1.3 1.4 1.5 1.6 1.7 1.8]\n"
     ]
    }
   ],
   "source": [
    "df_ivs.sort_values('sepal_length',inplace=True)\n",
    "print('Iris-versicolor\\'s range for sepal length is :',df_ivs.sepal_length.unique())\n",
    "df_ivs.sort_values('sepal_width',inplace=True)\n",
    "print('Iris-versicolor\\'s range for sepal width is :',df_ivs.sepal_width.unique())\n",
    "df_ivs.sort_values('petal_length',inplace=True)\n",
    "print('Iris-versicolor\\'s range for petal length is :',df_ivs.petal_length.unique())\n",
    "df_ivs.sort_values('petal_width',inplace=True)\n",
    "print('Iris-versicolor\\'s range for petal width is :',df_ivs.petal_width.unique())"
   ]
  },
  {
   "cell_type": "markdown",
   "id": "db48760a",
   "metadata": {},
   "source": [
    "## Features of Iris-virginica"
   ]
  },
  {
   "cell_type": "code",
   "execution_count": 8,
   "id": "9dee1eb6",
   "metadata": {},
   "outputs": [
    {
     "name": "stdout",
     "output_type": "stream",
     "text": [
      "Iris-virginica's range for sepal length is : [4.9 5.6 5.7 5.8 5.9 6.  6.1 6.2 6.3 6.4 6.5 6.7 6.8 6.9 7.1 7.2 7.3 7.4\n",
      " 7.6 7.7 7.9]\n",
      "Iris-virginica's range for sepal width is : [2.2 2.5 2.6 2.7 2.8 2.9 3.  3.1 3.2 3.3 3.4 3.6 3.8]\n",
      "Iris-virginica's range for petal length is : [4.5 4.8 4.9 5.  5.1 5.2 5.3 5.4 5.5 5.6 5.7 5.8 5.9 6.  6.1 6.3 6.4 6.6\n",
      " 6.7 6.9]\n",
      "Iris-virginica's range for petal width is : [1.4 1.5 1.6 1.7 1.8 1.9 2.  2.1 2.2 2.3 2.4 2.5]\n"
     ]
    }
   ],
   "source": [
    "df_ivg.sort_values('sepal_length',inplace=True)\n",
    "print('Iris-virginica\\'s range for sepal length is :',df_ivg.sepal_length.unique())\n",
    "df_ivg.sort_values('sepal_width',inplace=True)\n",
    "print('Iris-virginica\\'s range for sepal width is :',df_ivg.sepal_width.unique())\n",
    "df_ivg.sort_values('petal_length',inplace=True)\n",
    "print('Iris-virginica\\'s range for petal length is :',df_ivg.petal_length.unique())\n",
    "df_ivg.sort_values('petal_width',inplace=True)\n",
    "print('Iris-virginica\\'s range for petal width is :',df_ivg.petal_width.unique())"
   ]
  },
  {
   "cell_type": "markdown",
   "id": "c72ca3a3",
   "metadata": {},
   "source": [
    "When observed we could notice that, petal length is the determining factor for these three kinds. So based on these values we can decide which category it belong to."
   ]
  },
  {
   "cell_type": "code",
   "execution_count": 14,
   "id": "75b54b60",
   "metadata": {},
   "outputs": [],
   "source": [
    "def predict_one(sepal_length, sepal_width, petal_length, petal_width):\n",
    "    \n",
    "    if 1.0 <= petal_length <= 1.9 :\n",
    "        return 'Iris-setosa'\n",
    "    elif (3.0 <= petal_length <= 5.1) & (1.0 <= petal_width <= 1.8):\n",
    "        return 'Iris-versicolor'\n",
    "    elif (4.5 <= petal_length <= 6.9) & (1.4 <= petal_width <= 2.5):\n",
    "        return 'Iris-virginica'\n"
   ]
  },
  {
   "cell_type": "code",
   "execution_count": 15,
   "id": "aac79562",
   "metadata": {},
   "outputs": [
    {
     "name": "stdout",
     "output_type": "stream",
     "text": [
      "Accuracy: 0.9466666666666667\n"
     ]
    }
   ],
   "source": [
    "predictions = pd.Series([ predict_one(*line) for line in df.iloc[:, :4].to_numpy()])\n",
    "accuracy = sum(df.species == predictions) / len(df)\n",
    "print(f\"Accuracy: {accuracy}\")"
   ]
  },
  {
   "cell_type": "code",
   "execution_count": null,
   "id": "cd37f74d",
   "metadata": {},
   "outputs": [],
   "source": []
  }
 ],
 "metadata": {
  "kernelspec": {
   "display_name": "Python 3 (ipykernel)",
   "language": "python",
   "name": "python3"
  },
  "language_info": {
   "codemirror_mode": {
    "name": "ipython",
    "version": 3
   },
   "file_extension": ".py",
   "mimetype": "text/x-python",
   "name": "python",
   "nbconvert_exporter": "python",
   "pygments_lexer": "ipython3",
   "version": "3.9.13"
  },
  "toc": {
   "base_numbering": 1,
   "nav_menu": {},
   "number_sections": true,
   "sideBar": true,
   "skip_h1_title": false,
   "title_cell": "Table of Contents",
   "title_sidebar": "Contents",
   "toc_cell": false,
   "toc_position": {},
   "toc_section_display": true,
   "toc_window_display": false
  }
 },
 "nbformat": 4,
 "nbformat_minor": 5
}
