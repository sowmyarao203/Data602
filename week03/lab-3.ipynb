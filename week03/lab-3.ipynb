{
 "cells": [
  {
   "cell_type": "markdown",
   "id": "57771d6f",
   "metadata": {},
   "source": [
    "# Week 3 Lab"
   ]
  },
  {
   "cell_type": "markdown",
   "id": "ccb647fd",
   "metadata": {},
   "source": [
    "## Questions:\n",
    "- Differences between supervised and unsupervised learning?  \n",
    "- Differences between classification and regression?  \n",
    "- Classification and regression are the only types of supervised learning? "
   ]
  },
  {
   "cell_type": "markdown",
   "id": "03e12e71",
   "metadata": {},
   "source": []
  },
  {
   "cell_type": "markdown",
   "id": "144c40d1",
   "metadata": {},
   "source": [
    "## Differences between supervised and unsupervised learning?"
   ]
  },
  {
   "cell_type": "markdown",
   "id": "223a982d",
   "metadata": {},
   "source": [
    "These are two main types of machine learning techniques.\n",
    "Supervised Learning : This technique involves training the model on both input and output labels. The output will also be provided for the machine to learn for a specific input. After training, a fresh data set with input values is provided with which it must predict the output vaues.\n",
    "Unsupervised Learning : On the contrary, this approach only provides the input values to the machine. The goal is to find the underlying patterns and relationship between data and group them accordingly."
   ]
  },
  {
   "cell_type": "markdown",
   "id": "4ba59c4a",
   "metadata": {},
   "source": [
    "## Differences between classification and regression?"
   ]
  },
  {
   "cell_type": "markdown",
   "id": "4ceec9dc",
   "metadata": {},
   "source": [
    "Out of many, classification and regression are two types of supervised learning techniques in machine learning. They both differ in terms of the output they forecast. In case of classification, it identifies which class the data belongs to and in case of regression it predicts a continuous variable."
   ]
  },
  {
   "cell_type": "markdown",
   "id": "10e639ad",
   "metadata": {},
   "source": [
    "## Classification and regression are the only types of supervised learning?"
   ]
  },
  {
   "cell_type": "markdown",
   "id": "c8cfddaf",
   "metadata": {},
   "source": [
    "There are many types of supervised learning other than classification and regression such as Time series forecasting, NLP and Recommender systems."
   ]
  }
 ],
 "metadata": {
  "kernelspec": {
   "display_name": "Python 3 (ipykernel)",
   "language": "python",
   "name": "python3"
  },
  "language_info": {
   "codemirror_mode": {
    "name": "ipython",
    "version": 3
   },
   "file_extension": ".py",
   "mimetype": "text/x-python",
   "name": "python",
   "nbconvert_exporter": "python",
   "pygments_lexer": "ipython3",
   "version": "3.9.13"
  },
  "toc": {
   "base_numbering": 1,
   "nav_menu": {},
   "number_sections": true,
   "sideBar": true,
   "skip_h1_title": false,
   "title_cell": "Table of Contents",
   "title_sidebar": "Contents",
   "toc_cell": false,
   "toc_position": {},
   "toc_section_display": true,
   "toc_window_display": false
  }
 },
 "nbformat": 4,
 "nbformat_minor": 5
}
